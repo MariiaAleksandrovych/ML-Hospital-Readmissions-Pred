{
 "cells": [
  {
   "cell_type": "markdown",
   "id": "ed1288dc",
   "metadata": {},
   "source": [
    "# Mariia Aleksandrovych\n",
    "\n",
    "### Assiment 2\n"
   ]
  },
  {
   "cell_type": "markdown",
   "id": "11ac3347",
   "metadata": {},
   "source": [
    "## Part A: Model Code and Exploration"
   ]
  },
  {
   "cell_type": "markdown",
   "id": "9585fc67",
   "metadata": {},
   "source": [
    "1. Perform Exploratory Data Analysis (EDA) and discuss the data and what you observe prior to beginning modeling and how impact how to proceed [10]"
   ]
  },
  {
   "cell_type": "code",
   "execution_count": 381,
   "id": "edb68737",
   "metadata": {},
   "outputs": [],
   "source": [
    "import pandas as pd\n",
    "import matplotlib.pyplot as plt\n",
    "import seaborn as sns\n",
    "from sklearn.model_selection import train_test_split\n",
    "from sklearn.preprocessing import StandardScaler, OneHotEncoder\n",
    "from sklearn.feature_extraction.text import TfidfVectorizer"
   ]
  },
  {
   "cell_type": "code",
   "execution_count": 382,
   "id": "8a4ac632",
   "metadata": {},
   "outputs": [
    {
     "data": {
      "text/html": [
       "<div>\n",
       "<style scoped>\n",
       "    .dataframe tbody tr th:only-of-type {\n",
       "        vertical-align: middle;\n",
       "    }\n",
       "\n",
       "    .dataframe tbody tr th {\n",
       "        vertical-align: top;\n",
       "    }\n",
       "\n",
       "    .dataframe thead th {\n",
       "        text-align: right;\n",
       "    }\n",
       "</style>\n",
       "<table border=\"1\" class=\"dataframe\">\n",
       "  <thead>\n",
       "    <tr style=\"text-align: right;\">\n",
       "      <th></th>\n",
       "      <th>diag_desc_combined</th>\n",
       "      <th>number_inpatient</th>\n",
       "      <th>medical_specialty</th>\n",
       "      <th>admission_source_id</th>\n",
       "      <th>num_lab_procedures</th>\n",
       "      <th>readmitted</th>\n",
       "      <th>distance_to_hospital</th>\n",
       "      <th>is_patient</th>\n",
       "    </tr>\n",
       "  </thead>\n",
       "  <tbody>\n",
       "    <tr>\n",
       "      <th>0</th>\n",
       "      <td>NaN</td>\n",
       "      <td>0</td>\n",
       "      <td>Surgery-Neuro</td>\n",
       "      <td>Physician Referral</td>\n",
       "      <td>35</td>\n",
       "      <td>False</td>\n",
       "      <td>NaN</td>\n",
       "      <td>1</td>\n",
       "    </tr>\n",
       "    <tr>\n",
       "      <th>1</th>\n",
       "      <td>First-degree perineal laceration, unspecified ...</td>\n",
       "      <td>0</td>\n",
       "      <td>?</td>\n",
       "      <td>Physician Referral</td>\n",
       "      <td>8</td>\n",
       "      <td>False</td>\n",
       "      <td>12.672400</td>\n",
       "      <td>1</td>\n",
       "    </tr>\n",
       "    <tr>\n",
       "      <th>2</th>\n",
       "      <td>Pneumococcal pneumonia [Streptococcus pneumoni...</td>\n",
       "      <td>1</td>\n",
       "      <td>Family/GeneralPractice</td>\n",
       "      <td>NaN</td>\n",
       "      <td>12</td>\n",
       "      <td>True</td>\n",
       "      <td>13.241222</td>\n",
       "      <td>1</td>\n",
       "    </tr>\n",
       "    <tr>\n",
       "      <th>3</th>\n",
       "      <td>Cellulitis and abscess of face; Streptococcus ...</td>\n",
       "      <td>0</td>\n",
       "      <td>?</td>\n",
       "      <td>Transfer from another health care facility</td>\n",
       "      <td>33</td>\n",
       "      <td>False</td>\n",
       "      <td>39.340022</td>\n",
       "      <td>1</td>\n",
       "    </tr>\n",
       "    <tr>\n",
       "      <th>4</th>\n",
       "      <td>Bipolar I disorder, single manic episode, unsp...</td>\n",
       "      <td>0</td>\n",
       "      <td>Psychiatry</td>\n",
       "      <td>Emergency Room</td>\n",
       "      <td>31</td>\n",
       "      <td>False</td>\n",
       "      <td>25.601328</td>\n",
       "      <td>1</td>\n",
       "    </tr>\n",
       "    <tr>\n",
       "      <th>...</th>\n",
       "      <td>...</td>\n",
       "      <td>...</td>\n",
       "      <td>...</td>\n",
       "      <td>...</td>\n",
       "      <td>...</td>\n",
       "      <td>...</td>\n",
       "      <td>...</td>\n",
       "      <td>...</td>\n",
       "    </tr>\n",
       "    <tr>\n",
       "      <th>7995</th>\n",
       "      <td>Atherosclerosis of aorta; Cerebral thrombosis ...</td>\n",
       "      <td>1</td>\n",
       "      <td>Surgery-Cardiovascular/Thoracic</td>\n",
       "      <td>Physician Referral</td>\n",
       "      <td>56</td>\n",
       "      <td>False</td>\n",
       "      <td>NaN</td>\n",
       "      <td>1</td>\n",
       "    </tr>\n",
       "    <tr>\n",
       "      <th>7996</th>\n",
       "      <td>Disorders of mineral metabolism; Alteration of...</td>\n",
       "      <td>0</td>\n",
       "      <td>Emergency/Trauma</td>\n",
       "      <td>Emergency Room</td>\n",
       "      <td>44</td>\n",
       "      <td>False</td>\n",
       "      <td>36.392020</td>\n",
       "      <td>1</td>\n",
       "    </tr>\n",
       "    <tr>\n",
       "      <th>7997</th>\n",
       "      <td>Coronary atherosclerosis of unspecified type o...</td>\n",
       "      <td>1</td>\n",
       "      <td>?</td>\n",
       "      <td>NaN</td>\n",
       "      <td>25</td>\n",
       "      <td>False</td>\n",
       "      <td>22.219686</td>\n",
       "      <td>1</td>\n",
       "    </tr>\n",
       "    <tr>\n",
       "      <th>7998</th>\n",
       "      <td>Congestive heart failure, unspecified; Paroxys...</td>\n",
       "      <td>1</td>\n",
       "      <td>Surgery-General</td>\n",
       "      <td>Emergency Room</td>\n",
       "      <td>61</td>\n",
       "      <td>False</td>\n",
       "      <td>19.742794</td>\n",
       "      <td>1</td>\n",
       "    </tr>\n",
       "    <tr>\n",
       "      <th>7999</th>\n",
       "      <td>Care involving breathing exercises; Budd-chiar...</td>\n",
       "      <td>0</td>\n",
       "      <td>InternalMedicine</td>\n",
       "      <td>Transfer from a hospital</td>\n",
       "      <td>48</td>\n",
       "      <td>True</td>\n",
       "      <td>37.255952</td>\n",
       "      <td>1</td>\n",
       "    </tr>\n",
       "  </tbody>\n",
       "</table>\n",
       "<p>8000 rows × 8 columns</p>\n",
       "</div>"
      ],
      "text/plain": [
       "                                     diag_desc_combined  number_inpatient  \\\n",
       "0                                                   NaN                 0   \n",
       "1     First-degree perineal laceration, unspecified ...                 0   \n",
       "2     Pneumococcal pneumonia [Streptococcus pneumoni...                 1   \n",
       "3     Cellulitis and abscess of face; Streptococcus ...                 0   \n",
       "4     Bipolar I disorder, single manic episode, unsp...                 0   \n",
       "...                                                 ...               ...   \n",
       "7995  Atherosclerosis of aorta; Cerebral thrombosis ...                 1   \n",
       "7996  Disorders of mineral metabolism; Alteration of...                 0   \n",
       "7997  Coronary atherosclerosis of unspecified type o...                 1   \n",
       "7998  Congestive heart failure, unspecified; Paroxys...                 1   \n",
       "7999  Care involving breathing exercises; Budd-chiar...                 0   \n",
       "\n",
       "                    medical_specialty  \\\n",
       "0                       Surgery-Neuro   \n",
       "1                                   ?   \n",
       "2              Family/GeneralPractice   \n",
       "3                                   ?   \n",
       "4                          Psychiatry   \n",
       "...                               ...   \n",
       "7995  Surgery-Cardiovascular/Thoracic   \n",
       "7996                 Emergency/Trauma   \n",
       "7997                                ?   \n",
       "7998                  Surgery-General   \n",
       "7999                 InternalMedicine   \n",
       "\n",
       "                             admission_source_id  num_lab_procedures  \\\n",
       "0                             Physician Referral                  35   \n",
       "1                             Physician Referral                   8   \n",
       "2                                            NaN                  12   \n",
       "3     Transfer from another health care facility                  33   \n",
       "4                                 Emergency Room                  31   \n",
       "...                                          ...                 ...   \n",
       "7995                          Physician Referral                  56   \n",
       "7996                              Emergency Room                  44   \n",
       "7997                                         NaN                  25   \n",
       "7998                              Emergency Room                  61   \n",
       "7999                    Transfer from a hospital                  48   \n",
       "\n",
       "      readmitted  distance_to_hospital  is_patient  \n",
       "0          False                   NaN           1  \n",
       "1          False             12.672400           1  \n",
       "2           True             13.241222           1  \n",
       "3          False             39.340022           1  \n",
       "4          False             25.601328           1  \n",
       "...          ...                   ...         ...  \n",
       "7995       False                   NaN           1  \n",
       "7996       False             36.392020           1  \n",
       "7997       False             22.219686           1  \n",
       "7998       False             19.742794           1  \n",
       "7999        True             37.255952           1  \n",
       "\n",
       "[8000 rows x 8 columns]"
      ]
     },
     "execution_count": 382,
     "metadata": {},
     "output_type": "execute_result"
    }
   ],
   "source": [
    "df = pd.read_csv(\"8k_diabetes_v2.csv\")\n",
    "df"
   ]
  },
  {
   "cell_type": "code",
   "execution_count": 383,
   "id": "aae234cf",
   "metadata": {},
   "outputs": [
    {
     "data": {
      "text/html": [
       "<div>\n",
       "<style scoped>\n",
       "    .dataframe tbody tr th:only-of-type {\n",
       "        vertical-align: middle;\n",
       "    }\n",
       "\n",
       "    .dataframe tbody tr th {\n",
       "        vertical-align: top;\n",
       "    }\n",
       "\n",
       "    .dataframe thead th {\n",
       "        text-align: right;\n",
       "    }\n",
       "</style>\n",
       "<table border=\"1\" class=\"dataframe\">\n",
       "  <thead>\n",
       "    <tr style=\"text-align: right;\">\n",
       "      <th></th>\n",
       "      <th>diag_desc_combined</th>\n",
       "      <th>number_inpatient</th>\n",
       "      <th>medical_specialty</th>\n",
       "      <th>admission_source_id</th>\n",
       "      <th>num_lab_procedures</th>\n",
       "      <th>readmitted</th>\n",
       "      <th>distance_to_hospital</th>\n",
       "      <th>is_patient</th>\n",
       "    </tr>\n",
       "  </thead>\n",
       "  <tbody>\n",
       "    <tr>\n",
       "      <th>0</th>\n",
       "      <td>NaN</td>\n",
       "      <td>0</td>\n",
       "      <td>Surgery-Neuro</td>\n",
       "      <td>Physician Referral</td>\n",
       "      <td>35</td>\n",
       "      <td>False</td>\n",
       "      <td>NaN</td>\n",
       "      <td>1</td>\n",
       "    </tr>\n",
       "    <tr>\n",
       "      <th>1</th>\n",
       "      <td>First-degree perineal laceration, unspecified ...</td>\n",
       "      <td>0</td>\n",
       "      <td>?</td>\n",
       "      <td>Physician Referral</td>\n",
       "      <td>8</td>\n",
       "      <td>False</td>\n",
       "      <td>12.672400</td>\n",
       "      <td>1</td>\n",
       "    </tr>\n",
       "    <tr>\n",
       "      <th>2</th>\n",
       "      <td>Pneumococcal pneumonia [Streptococcus pneumoni...</td>\n",
       "      <td>1</td>\n",
       "      <td>Family/GeneralPractice</td>\n",
       "      <td>NaN</td>\n",
       "      <td>12</td>\n",
       "      <td>True</td>\n",
       "      <td>13.241222</td>\n",
       "      <td>1</td>\n",
       "    </tr>\n",
       "    <tr>\n",
       "      <th>3</th>\n",
       "      <td>Cellulitis and abscess of face; Streptococcus ...</td>\n",
       "      <td>0</td>\n",
       "      <td>?</td>\n",
       "      <td>Transfer from another health care facility</td>\n",
       "      <td>33</td>\n",
       "      <td>False</td>\n",
       "      <td>39.340022</td>\n",
       "      <td>1</td>\n",
       "    </tr>\n",
       "    <tr>\n",
       "      <th>4</th>\n",
       "      <td>Bipolar I disorder, single manic episode, unsp...</td>\n",
       "      <td>0</td>\n",
       "      <td>Psychiatry</td>\n",
       "      <td>Emergency Room</td>\n",
       "      <td>31</td>\n",
       "      <td>False</td>\n",
       "      <td>25.601328</td>\n",
       "      <td>1</td>\n",
       "    </tr>\n",
       "  </tbody>\n",
       "</table>\n",
       "</div>"
      ],
      "text/plain": [
       "                                  diag_desc_combined  number_inpatient  \\\n",
       "0                                                NaN                 0   \n",
       "1  First-degree perineal laceration, unspecified ...                 0   \n",
       "2  Pneumococcal pneumonia [Streptococcus pneumoni...                 1   \n",
       "3  Cellulitis and abscess of face; Streptococcus ...                 0   \n",
       "4  Bipolar I disorder, single manic episode, unsp...                 0   \n",
       "\n",
       "        medical_specialty                         admission_source_id  \\\n",
       "0           Surgery-Neuro                          Physician Referral   \n",
       "1                       ?                          Physician Referral   \n",
       "2  Family/GeneralPractice                                         NaN   \n",
       "3                       ?  Transfer from another health care facility   \n",
       "4              Psychiatry                              Emergency Room   \n",
       "\n",
       "   num_lab_procedures  readmitted  distance_to_hospital  is_patient  \n",
       "0                  35       False                   NaN           1  \n",
       "1                   8       False             12.672400           1  \n",
       "2                  12        True             13.241222           1  \n",
       "3                  33       False             39.340022           1  \n",
       "4                  31       False             25.601328           1  "
      ]
     },
     "execution_count": 383,
     "metadata": {},
     "output_type": "execute_result"
    }
   ],
   "source": [
    "df.head()"
   ]
  },
  {
   "cell_type": "code",
   "execution_count": 384,
   "id": "06eb7472",
   "metadata": {},
   "outputs": [
    {
     "name": "stdout",
     "output_type": "stream",
     "text": [
      "<class 'pandas.core.frame.DataFrame'>\n",
      "RangeIndex: 8000 entries, 0 to 7999\n",
      "Data columns (total 8 columns):\n",
      " #   Column                Non-Null Count  Dtype  \n",
      "---  ------                --------------  -----  \n",
      " 0   diag_desc_combined    7534 non-null   object \n",
      " 1   number_inpatient      8000 non-null   int64  \n",
      " 2   medical_specialty     8000 non-null   object \n",
      " 3   admission_source_id   7250 non-null   object \n",
      " 4   num_lab_procedures    8000 non-null   int64  \n",
      " 5   readmitted            8000 non-null   bool   \n",
      " 6   distance_to_hospital  7384 non-null   float64\n",
      " 7   is_patient            8000 non-null   int64  \n",
      "dtypes: bool(1), float64(1), int64(3), object(3)\n",
      "memory usage: 445.4+ KB\n"
     ]
    }
   ],
   "source": [
    "df.info()"
   ]
  },
  {
   "cell_type": "code",
   "execution_count": 385,
   "id": "8dff01ea",
   "metadata": {},
   "outputs": [
    {
     "name": "stdout",
     "output_type": "stream",
     "text": [
      "unique values:  1\n",
      "size:  8000\n"
     ]
    }
   ],
   "source": [
    "unique_values = df['is_patient'].nunique()\n",
    "column_size = df['is_patient'].shape[0]\n",
    "print ( \"unique values: \", unique_values)\n",
    "print (\"size: \", column_size)"
   ]
  },
  {
   "cell_type": "markdown",
   "id": "ea0907f2",
   "metadata": {},
   "source": [
    "Column \"is_patient\" does not provide any information as all the values are 1 that is indicate that all the ppl are patients. I decied to drop it."
   ]
  },
  {
   "cell_type": "code",
   "execution_count": 386,
   "id": "77e2eef4",
   "metadata": {},
   "outputs": [],
   "source": [
    "# drop the column \"is_patient\"\n",
    "df_new = df.drop('is_patient', axis=1) "
   ]
  },
  {
   "cell_type": "code",
   "execution_count": 387,
   "id": "2a1db81a",
   "metadata": {},
   "outputs": [
    {
     "data": {
      "text/html": [
       "<div>\n",
       "<style scoped>\n",
       "    .dataframe tbody tr th:only-of-type {\n",
       "        vertical-align: middle;\n",
       "    }\n",
       "\n",
       "    .dataframe tbody tr th {\n",
       "        vertical-align: top;\n",
       "    }\n",
       "\n",
       "    .dataframe thead th {\n",
       "        text-align: right;\n",
       "    }\n",
       "</style>\n",
       "<table border=\"1\" class=\"dataframe\">\n",
       "  <thead>\n",
       "    <tr style=\"text-align: right;\">\n",
       "      <th></th>\n",
       "      <th>diag_desc_combined</th>\n",
       "      <th>number_inpatient</th>\n",
       "      <th>medical_specialty</th>\n",
       "      <th>admission_source_id</th>\n",
       "      <th>num_lab_procedures</th>\n",
       "      <th>readmitted</th>\n",
       "      <th>distance_to_hospital</th>\n",
       "    </tr>\n",
       "  </thead>\n",
       "  <tbody>\n",
       "    <tr>\n",
       "      <th>0</th>\n",
       "      <td>NaN</td>\n",
       "      <td>0</td>\n",
       "      <td>Surgery-Neuro</td>\n",
       "      <td>Physician Referral</td>\n",
       "      <td>35</td>\n",
       "      <td>False</td>\n",
       "      <td>NaN</td>\n",
       "    </tr>\n",
       "    <tr>\n",
       "      <th>1</th>\n",
       "      <td>First-degree perineal laceration, unspecified ...</td>\n",
       "      <td>0</td>\n",
       "      <td>?</td>\n",
       "      <td>Physician Referral</td>\n",
       "      <td>8</td>\n",
       "      <td>False</td>\n",
       "      <td>12.672400</td>\n",
       "    </tr>\n",
       "    <tr>\n",
       "      <th>2</th>\n",
       "      <td>Pneumococcal pneumonia [Streptococcus pneumoni...</td>\n",
       "      <td>1</td>\n",
       "      <td>Family/GeneralPractice</td>\n",
       "      <td>NaN</td>\n",
       "      <td>12</td>\n",
       "      <td>True</td>\n",
       "      <td>13.241222</td>\n",
       "    </tr>\n",
       "    <tr>\n",
       "      <th>3</th>\n",
       "      <td>Cellulitis and abscess of face; Streptococcus ...</td>\n",
       "      <td>0</td>\n",
       "      <td>?</td>\n",
       "      <td>Transfer from another health care facility</td>\n",
       "      <td>33</td>\n",
       "      <td>False</td>\n",
       "      <td>39.340022</td>\n",
       "    </tr>\n",
       "    <tr>\n",
       "      <th>4</th>\n",
       "      <td>Bipolar I disorder, single manic episode, unsp...</td>\n",
       "      <td>0</td>\n",
       "      <td>Psychiatry</td>\n",
       "      <td>Emergency Room</td>\n",
       "      <td>31</td>\n",
       "      <td>False</td>\n",
       "      <td>25.601328</td>\n",
       "    </tr>\n",
       "    <tr>\n",
       "      <th>...</th>\n",
       "      <td>...</td>\n",
       "      <td>...</td>\n",
       "      <td>...</td>\n",
       "      <td>...</td>\n",
       "      <td>...</td>\n",
       "      <td>...</td>\n",
       "      <td>...</td>\n",
       "    </tr>\n",
       "    <tr>\n",
       "      <th>7995</th>\n",
       "      <td>Atherosclerosis of aorta; Cerebral thrombosis ...</td>\n",
       "      <td>1</td>\n",
       "      <td>Surgery-Cardiovascular/Thoracic</td>\n",
       "      <td>Physician Referral</td>\n",
       "      <td>56</td>\n",
       "      <td>False</td>\n",
       "      <td>NaN</td>\n",
       "    </tr>\n",
       "    <tr>\n",
       "      <th>7996</th>\n",
       "      <td>Disorders of mineral metabolism; Alteration of...</td>\n",
       "      <td>0</td>\n",
       "      <td>Emergency/Trauma</td>\n",
       "      <td>Emergency Room</td>\n",
       "      <td>44</td>\n",
       "      <td>False</td>\n",
       "      <td>36.392020</td>\n",
       "    </tr>\n",
       "    <tr>\n",
       "      <th>7997</th>\n",
       "      <td>Coronary atherosclerosis of unspecified type o...</td>\n",
       "      <td>1</td>\n",
       "      <td>?</td>\n",
       "      <td>NaN</td>\n",
       "      <td>25</td>\n",
       "      <td>False</td>\n",
       "      <td>22.219686</td>\n",
       "    </tr>\n",
       "    <tr>\n",
       "      <th>7998</th>\n",
       "      <td>Congestive heart failure, unspecified; Paroxys...</td>\n",
       "      <td>1</td>\n",
       "      <td>Surgery-General</td>\n",
       "      <td>Emergency Room</td>\n",
       "      <td>61</td>\n",
       "      <td>False</td>\n",
       "      <td>19.742794</td>\n",
       "    </tr>\n",
       "    <tr>\n",
       "      <th>7999</th>\n",
       "      <td>Care involving breathing exercises; Budd-chiar...</td>\n",
       "      <td>0</td>\n",
       "      <td>InternalMedicine</td>\n",
       "      <td>Transfer from a hospital</td>\n",
       "      <td>48</td>\n",
       "      <td>True</td>\n",
       "      <td>37.255952</td>\n",
       "    </tr>\n",
       "  </tbody>\n",
       "</table>\n",
       "<p>8000 rows × 7 columns</p>\n",
       "</div>"
      ],
      "text/plain": [
       "                                     diag_desc_combined  number_inpatient  \\\n",
       "0                                                   NaN                 0   \n",
       "1     First-degree perineal laceration, unspecified ...                 0   \n",
       "2     Pneumococcal pneumonia [Streptococcus pneumoni...                 1   \n",
       "3     Cellulitis and abscess of face; Streptococcus ...                 0   \n",
       "4     Bipolar I disorder, single manic episode, unsp...                 0   \n",
       "...                                                 ...               ...   \n",
       "7995  Atherosclerosis of aorta; Cerebral thrombosis ...                 1   \n",
       "7996  Disorders of mineral metabolism; Alteration of...                 0   \n",
       "7997  Coronary atherosclerosis of unspecified type o...                 1   \n",
       "7998  Congestive heart failure, unspecified; Paroxys...                 1   \n",
       "7999  Care involving breathing exercises; Budd-chiar...                 0   \n",
       "\n",
       "                    medical_specialty  \\\n",
       "0                       Surgery-Neuro   \n",
       "1                                   ?   \n",
       "2              Family/GeneralPractice   \n",
       "3                                   ?   \n",
       "4                          Psychiatry   \n",
       "...                               ...   \n",
       "7995  Surgery-Cardiovascular/Thoracic   \n",
       "7996                 Emergency/Trauma   \n",
       "7997                                ?   \n",
       "7998                  Surgery-General   \n",
       "7999                 InternalMedicine   \n",
       "\n",
       "                             admission_source_id  num_lab_procedures  \\\n",
       "0                             Physician Referral                  35   \n",
       "1                             Physician Referral                   8   \n",
       "2                                            NaN                  12   \n",
       "3     Transfer from another health care facility                  33   \n",
       "4                                 Emergency Room                  31   \n",
       "...                                          ...                 ...   \n",
       "7995                          Physician Referral                  56   \n",
       "7996                              Emergency Room                  44   \n",
       "7997                                         NaN                  25   \n",
       "7998                              Emergency Room                  61   \n",
       "7999                    Transfer from a hospital                  48   \n",
       "\n",
       "      readmitted  distance_to_hospital  \n",
       "0          False                   NaN  \n",
       "1          False             12.672400  \n",
       "2           True             13.241222  \n",
       "3          False             39.340022  \n",
       "4          False             25.601328  \n",
       "...          ...                   ...  \n",
       "7995       False                   NaN  \n",
       "7996       False             36.392020  \n",
       "7997       False             22.219686  \n",
       "7998       False             19.742794  \n",
       "7999        True             37.255952  \n",
       "\n",
       "[8000 rows x 7 columns]"
      ]
     },
     "execution_count": 387,
     "metadata": {},
     "output_type": "execute_result"
    }
   ],
   "source": [
    "df_new"
   ]
  },
  {
   "cell_type": "markdown",
   "id": "ae510e97",
   "metadata": {},
   "source": [
    "we have text data column name \"diag_desc_combined\", categorical data columns \"medical_specialty\", \"admission_source_id\", \"number_inpatient\"; and numerical data \"num_lab_procedures\", \"distance_to_hospital\"."
   ]
  },
  {
   "cell_type": "markdown",
   "id": "9b4caa4f",
   "metadata": {},
   "source": [
    "### Preprocessing of numerical data\n",
    "3. Pre-processed numerical data appropriately including handling missing data and\n",
    "justified methods used. Note this may be different for each algorithm you try. [10 pts]"
   ]
  },
  {
   "cell_type": "code",
   "execution_count": 388,
   "id": "ed740498",
   "metadata": {},
   "outputs": [
    {
     "data": {
      "text/html": [
       "<div>\n",
       "<style scoped>\n",
       "    .dataframe tbody tr th:only-of-type {\n",
       "        vertical-align: middle;\n",
       "    }\n",
       "\n",
       "    .dataframe tbody tr th {\n",
       "        vertical-align: top;\n",
       "    }\n",
       "\n",
       "    .dataframe thead th {\n",
       "        text-align: right;\n",
       "    }\n",
       "</style>\n",
       "<table border=\"1\" class=\"dataframe\">\n",
       "  <thead>\n",
       "    <tr style=\"text-align: right;\">\n",
       "      <th></th>\n",
       "      <th>num_lab_procedures</th>\n",
       "      <th>distance_to_hospital</th>\n",
       "    </tr>\n",
       "  </thead>\n",
       "  <tbody>\n",
       "    <tr>\n",
       "      <th>mean</th>\n",
       "      <td>43.098500</td>\n",
       "      <td>25.029571</td>\n",
       "    </tr>\n",
       "    <tr>\n",
       "      <th>std</th>\n",
       "      <td>19.370266</td>\n",
       "      <td>14.498494</td>\n",
       "    </tr>\n",
       "    <tr>\n",
       "      <th>min</th>\n",
       "      <td>1.000000</td>\n",
       "      <td>0.004441</td>\n",
       "    </tr>\n",
       "    <tr>\n",
       "      <th>25%</th>\n",
       "      <td>32.000000</td>\n",
       "      <td>12.325162</td>\n",
       "    </tr>\n",
       "    <tr>\n",
       "      <th>50%</th>\n",
       "      <td>44.000000</td>\n",
       "      <td>25.067822</td>\n",
       "    </tr>\n",
       "    <tr>\n",
       "      <th>75%</th>\n",
       "      <td>57.000000</td>\n",
       "      <td>37.416795</td>\n",
       "    </tr>\n",
       "    <tr>\n",
       "      <th>max</th>\n",
       "      <td>120.000000</td>\n",
       "      <td>49.982344</td>\n",
       "    </tr>\n",
       "  </tbody>\n",
       "</table>\n",
       "</div>"
      ],
      "text/plain": [
       "      num_lab_procedures  distance_to_hospital\n",
       "mean           43.098500             25.029571\n",
       "std            19.370266             14.498494\n",
       "min             1.000000              0.004441\n",
       "25%            32.000000             12.325162\n",
       "50%            44.000000             25.067822\n",
       "75%            57.000000             37.416795\n",
       "max           120.000000             49.982344"
      ]
     },
     "execution_count": 388,
     "metadata": {},
     "output_type": "execute_result"
    }
   ],
   "source": [
    "stat = df_new.describe()\n",
    "columns = ['num_lab_procedures', 'distance_to_hospital']\n",
    "statistics_all = stat.loc[['mean', 'std', 'min', '25%', '50%', '75%', 'max'], columns]\n",
    "statistics_all"
   ]
  },
  {
   "cell_type": "code",
   "execution_count": 389,
   "id": "638ba272",
   "metadata": {},
   "outputs": [
    {
     "data": {
      "image/png": "[encoded data removed]",
      "text/plain": [
       "<Figure size 576x432 with 1 Axes>"
      ]
     },
     "metadata": {
      "needs_background": "light"
     },
     "output_type": "display_data"
    },
    {
     "data": {
      "image/png": "[encoded data removed]",
      "text/plain": [
       "<Figure size 576x432 with 1 Axes>"
      ]
     },
     "metadata": {
      "needs_background": "light"
     },
     "output_type": "display_data"
    }
   ],
   "source": [
    "num_bins = 90\n",
    "#histogram for each column\n",
    "for column in columns:\n",
    "    plt.figure(figsize=(8, 6)) \n",
    "    sns.histplot(df_new[column], bins=num_bins, kde=True)\n",
    "    plt.title(f'Histogram of {column}')\n",
    "    plt.xlabel(column)\n",
    "    plt.ylabel('Frequency')\n",
    "    plt.show()"
   ]
  },
  {
   "cell_type": "markdown",
   "id": "ad3bacd1",
   "metadata": {},
   "source": [
    "check for the missing values in numerical data"
   ]
  },
  {
   "cell_type": "code",
   "execution_count": 390,
   "id": "44cb9c7f",
   "metadata": {},
   "outputs": [
    {
     "data": {
      "text/plain": [
       "diag_desc_combined      466\n",
       "number_inpatient          0\n",
       "medical_specialty         0\n",
       "admission_source_id     750\n",
       "num_lab_procedures        0\n",
       "readmitted                0\n",
       "distance_to_hospital    616\n",
       "dtype: int64"
      ]
     },
     "execution_count": 390,
     "metadata": {},
     "output_type": "execute_result"
    }
   ],
   "source": [
    "df_new.isnull().sum()"
   ]
  },
  {
   "cell_type": "markdown",
   "id": "07fee8f1",
   "metadata": {},
   "source": [
    "The column 'distance_to_hospital' has 616 missing values, which account for 7.7% of all the data. I will input the mean values for the missing entries."
   ]
  },
  {
   "cell_type": "code",
   "execution_count": 391,
   "id": "dc096a8e",
   "metadata": {},
   "outputs": [
    {
     "data": {
      "text/html": [
       "<div>\n",
       "<style scoped>\n",
       "    .dataframe tbody tr th:only-of-type {\n",
       "        vertical-align: middle;\n",
       "    }\n",
       "\n",
       "    .dataframe tbody tr th {\n",
       "        vertical-align: top;\n",
       "    }\n",
       "\n",
       "    .dataframe thead th {\n",
       "        text-align: right;\n",
       "    }\n",
       "</style>\n",
       "<table border=\"1\" class=\"dataframe\">\n",
       "  <thead>\n",
       "    <tr style=\"text-align: right;\">\n",
       "      <th></th>\n",
       "      <th>diag_desc_combined</th>\n",
       "      <th>number_inpatient</th>\n",
       "      <th>medical_specialty</th>\n",
       "      <th>admission_source_id</th>\n",
       "      <th>num_lab_procedures</th>\n",
       "      <th>readmitted</th>\n",
       "      <th>distance_to_hospital</th>\n",
       "      <th>has_distance_to_hospital</th>\n",
       "    </tr>\n",
       "  </thead>\n",
       "  <tbody>\n",
       "    <tr>\n",
       "      <th>0</th>\n",
       "      <td>NaN</td>\n",
       "      <td>0</td>\n",
       "      <td>Surgery-Neuro</td>\n",
       "      <td>Physician Referral</td>\n",
       "      <td>35</td>\n",
       "      <td>False</td>\n",
       "      <td>NaN</td>\n",
       "      <td>0</td>\n",
       "    </tr>\n",
       "    <tr>\n",
       "      <th>1</th>\n",
       "      <td>First-degree perineal laceration, unspecified ...</td>\n",
       "      <td>0</td>\n",
       "      <td>?</td>\n",
       "      <td>Physician Referral</td>\n",
       "      <td>8</td>\n",
       "      <td>False</td>\n",
       "      <td>12.672400</td>\n",
       "      <td>1</td>\n",
       "    </tr>\n",
       "    <tr>\n",
       "      <th>2</th>\n",
       "      <td>Pneumococcal pneumonia [Streptococcus pneumoni...</td>\n",
       "      <td>1</td>\n",
       "      <td>Family/GeneralPractice</td>\n",
       "      <td>NaN</td>\n",
       "      <td>12</td>\n",
       "      <td>True</td>\n",
       "      <td>13.241222</td>\n",
       "      <td>1</td>\n",
       "    </tr>\n",
       "    <tr>\n",
       "      <th>3</th>\n",
       "      <td>Cellulitis and abscess of face; Streptococcus ...</td>\n",
       "      <td>0</td>\n",
       "      <td>?</td>\n",
       "      <td>Transfer from another health care facility</td>\n",
       "      <td>33</td>\n",
       "      <td>False</td>\n",
       "      <td>39.340022</td>\n",
       "      <td>1</td>\n",
       "    </tr>\n",
       "    <tr>\n",
       "      <th>4</th>\n",
       "      <td>Bipolar I disorder, single manic episode, unsp...</td>\n",
       "      <td>0</td>\n",
       "      <td>Psychiatry</td>\n",
       "      <td>Emergency Room</td>\n",
       "      <td>31</td>\n",
       "      <td>False</td>\n",
       "      <td>25.601328</td>\n",
       "      <td>1</td>\n",
       "    </tr>\n",
       "  </tbody>\n",
       "</table>\n",
       "</div>"
      ],
      "text/plain": [
       "                                  diag_desc_combined  number_inpatient  \\\n",
       "0                                                NaN                 0   \n",
       "1  First-degree perineal laceration, unspecified ...                 0   \n",
       "2  Pneumococcal pneumonia [Streptococcus pneumoni...                 1   \n",
       "3  Cellulitis and abscess of face; Streptococcus ...                 0   \n",
       "4  Bipolar I disorder, single manic episode, unsp...                 0   \n",
       "\n",
       "        medical_specialty                         admission_source_id  \\\n",
       "0           Surgery-Neuro                          Physician Referral   \n",
       "1                       ?                          Physician Referral   \n",
       "2  Family/GeneralPractice                                         NaN   \n",
       "3                       ?  Transfer from another health care facility   \n",
       "4              Psychiatry                              Emergency Room   \n",
       "\n",
       "   num_lab_procedures  readmitted  distance_to_hospital  \\\n",
       "0                  35       False                   NaN   \n",
       "1                   8       False             12.672400   \n",
       "2                  12        True             13.241222   \n",
       "3                  33       False             39.340022   \n",
       "4                  31       False             25.601328   \n",
       "\n",
       "   has_distance_to_hospital  \n",
       "0                         0  \n",
       "1                         1  \n",
       "2                         1  \n",
       "3                         1  \n",
       "4                         1  "
      ]
     },
     "execution_count": 391,
     "metadata": {},
     "output_type": "execute_result"
    }
   ],
   "source": [
    "#add extra column where we have 1 for non-missing values and 0 for missing values\n",
    "df_new['has_distance_to_hospital'] = df_new['distance_to_hospital'].notna().astype(int)\n",
    "df_new.head()"
   ]
  },
  {
   "cell_type": "code",
   "execution_count": 392,
   "id": "e29441d4",
   "metadata": {},
   "outputs": [
    {
     "data": {
      "text/plain": [
       "diag_desc_combined          466\n",
       "number_inpatient              0\n",
       "medical_specialty             0\n",
       "admission_source_id         750\n",
       "num_lab_procedures            0\n",
       "readmitted                    0\n",
       "distance_to_hospital          0\n",
       "has_distance_to_hospital      0\n",
       "dtype: int64"
      ]
     },
     "execution_count": 392,
     "metadata": {},
     "output_type": "execute_result"
    }
   ],
   "source": [
    "# input 'median' instead of missing values.\n",
    "\n",
    "df_new['distance_to_hospital'].fillna(df_new['distance_to_hospital'].median(), inplace=True)\n",
    "df_new.isnull().sum()"
   ]
  },
  {
   "cell_type": "markdown",
   "id": "653540fd",
   "metadata": {},
   "source": [
    "Now, I will normalize the numerical data. Additionally, the histograms and statistical data show that the data doesn't have outliers."
   ]
  },
  {
   "cell_type": "code",
   "execution_count": 393,
   "id": "0fa36c1f",
   "metadata": {},
   "outputs": [
    {
     "data": {
      "image/png": "[encoded data removed]",
      "text/plain": [
       "<Figure size 576x432 with 1 Axes>"
      ]
     },
     "metadata": {
      "needs_background": "light"
     },
     "output_type": "display_data"
    },
    {
     "data": {
      "image/png": "[encoded data removed]",
      "text/plain": [
       "<Figure size 576x432 with 1 Axes>"
      ]
     },
     "metadata": {
      "needs_background": "light"
     },
     "output_type": "display_data"
    }
   ],
   "source": [
    "from sklearn.preprocessing import StandardScaler\n",
    "# scaling data 'distance_to_hospital' and 'num_lab_procedures'\n",
    "\n",
    "#assine scaler\n",
    "scaler = StandardScaler()\n",
    "\n",
    "df_new['distance_to_hospital'] = scaler.fit_transform(df_new['distance_to_hospital'].values.reshape(-1, 1))\n",
    "df_new['num_lab_procedures'] = scaler.fit_transform(df_new['num_lab_procedures'].values.reshape(-1, 1))\n",
    "\n",
    "#ploting histogram to see results\n",
    "plt.figure(figsize=(8, 6))\n",
    "sns.histplot(df_new['distance_to_hospital'], bins=num_bins, kde=True)\n",
    "plt.show()\n",
    "\n",
    "plt.figure(figsize=(8, 6))\n",
    "sns.histplot(df_new['num_lab_procedures'], bins=num_bins, kde=True)\n",
    "plt.show()"
   ]
  },
  {
   "cell_type": "markdown",
   "id": "aa3d99a7",
   "metadata": {},
   "source": [
    "### Pre-processed categorical data\n",
    "\n",
    "2. Pre-processed categorical data for use in the model and justified pre-processing\n",
    "method. Note this may be different for each algorithm you try. [10 pts]"
   ]
  },
  {
   "cell_type": "code",
   "execution_count": 394,
   "id": "a3052335",
   "metadata": {},
   "outputs": [
    {
     "data": {
      "text/plain": [
       "?                                       3229\n",
       "Anesthesiology-Pediatric                   2\n",
       "Cardiology                               580\n",
       "Cardiology-Pediatric                       3\n",
       "Emergency/Trauma                         407\n",
       "Endocrinology                             15\n",
       "Family/GeneralPractice                   698\n",
       "Gastroenterology                          50\n",
       "Gynecology                                 6\n",
       "Hematology                                 1\n",
       "Hematology/Oncology                       13\n",
       "Hospitalist                                2\n",
       "InfectiousDiseases                         2\n",
       "InternalMedicine                        1562\n",
       "Nephrology                               126\n",
       "Neurology                                 22\n",
       "Obsterics&Gynecology-GynecologicOnco       4\n",
       "Obstetrics                                 1\n",
       "ObstetricsandGynecology                   78\n",
       "Oncology                                  32\n",
       "Ophthalmology                              3\n",
       "Orthopedics                              106\n",
       "Orthopedics-Reconstructive               140\n",
       "Osteopath                                  4\n",
       "Otolaryngology                            11\n",
       "OutreachServices                           1\n",
       "Pathology                                  2\n",
       "Pediatrics                                29\n",
       "Pediatrics-CriticalCare                   14\n",
       "Pediatrics-EmergencyMedicine               1\n",
       "Pediatrics-Endocrinology                  19\n",
       "Pediatrics-Hematology-Oncology             1\n",
       "Pediatrics-Pulmonology                     1\n",
       "PhysicalMedicineandRehabilitation         35\n",
       "Podiatry                                   8\n",
       "Psychiatry                                96\n",
       "Psychology                                 6\n",
       "Pulmonology                               78\n",
       "Radiologist                               42\n",
       "Radiology                                  7\n",
       "Surgeon                                    2\n",
       "Surgery-Cardiovascular                    11\n",
       "Surgery-Cardiovascular/Thoracic           80\n",
       "Surgery-Colon&Rectal                       1\n",
       "Surgery-General                          257\n",
       "Surgery-Neuro                             70\n",
       "Surgery-Pediatric                          4\n",
       "Surgery-Plastic                            5\n",
       "Surgery-PlasticwithinHeadandNeck           1\n",
       "Surgery-Thoracic                          11\n",
       "Surgery-Vascular                          57\n",
       "Urology                                   64\n",
       "Name: medical_specialty, dtype: int64"
      ]
     },
     "execution_count": 394,
     "metadata": {},
     "output_type": "execute_result"
    }
   ],
   "source": [
    "# chacking distribution among categories\n",
    "df_new['medical_specialty'].value_counts().sort_index()"
   ]
  },
  {
   "cell_type": "code",
   "execution_count": 395,
   "id": "2abc9a4c",
   "metadata": {},
   "outputs": [
    {
     "data": {
      "text/plain": [
       "0"
      ]
     },
     "execution_count": 395,
     "metadata": {},
     "output_type": "execute_result"
    }
   ],
   "source": [
    "#cheking for the missing values\n",
    "df_new['medical_specialty'].isnull().sum()"
   ]
  },
  {
   "cell_type": "code",
   "execution_count": 396,
   "id": "6c940cdf",
   "metadata": {},
   "outputs": [
    {
     "data": {
      "text/plain": [
       "Clinic Referral                                    134\n",
       "Court/Law Enforcement                                1\n",
       "Emergency Room                                    3969\n",
       "HMO Referral                                        29\n",
       "Not Available                                       13\n",
       "Not Mapped                                          16\n",
       "Physician Referral                                2387\n",
       "Transfer from a Skilled Nursing Facility (SNF)      93\n",
       "Transfer from a hospital                           322\n",
       "Transfer from another health care facility         286\n",
       "Name: admission_source_id, dtype: int64"
      ]
     },
     "execution_count": 396,
     "metadata": {},
     "output_type": "execute_result"
    }
   ],
   "source": [
    "#checking distribution categoriies\n",
    "df_new['admission_source_id'].value_counts().sort_index()"
   ]
  },
  {
   "cell_type": "code",
   "execution_count": 397,
   "id": "9e941926",
   "metadata": {},
   "outputs": [
    {
     "data": {
      "text/plain": [
       "750"
      ]
     },
     "execution_count": 397,
     "metadata": {},
     "output_type": "execute_result"
    }
   ],
   "source": [
    "#checking missing values\n",
    "df_new['admission_source_id'].isnull().sum()"
   ]
  },
  {
   "cell_type": "code",
   "execution_count": 398,
   "id": "c1af5860",
   "metadata": {},
   "outputs": [
    {
     "data": {
      "text/plain": [
       "0    6045\n",
       "1    1295\n",
       "2     408\n",
       "3     149\n",
       "4      54\n",
       "5      29\n",
       "6      10\n",
       "7       5\n",
       "8       2\n",
       "9       3\n",
       "Name: number_inpatient, dtype: int64"
      ]
     },
     "execution_count": 398,
     "metadata": {},
     "output_type": "execute_result"
    }
   ],
   "source": [
    "#checking distribution categoriies\n",
    "df_new['number_inpatient'].value_counts().sort_index()"
   ]
  },
  {
   "cell_type": "code",
   "execution_count": 399,
   "id": "c4575e6a",
   "metadata": {},
   "outputs": [
    {
     "data": {
      "text/plain": [
       "0"
      ]
     },
     "execution_count": 399,
     "metadata": {},
     "output_type": "execute_result"
    }
   ],
   "source": [
    "#checking missing values\n",
    "df_new['number_inpatient'].isnull().sum()"
   ]
  },
  {
   "cell_type": "markdown",
   "id": "e21e835a",
   "metadata": {},
   "source": [
    "Missing values for the \n",
    "'medical_specialty': 3229  \n",
    "'admission_source_id': 750  \n",
    "'number_inpatient': 0  "
   ]
  },
  {
   "cell_type": "markdown",
   "id": "0e778078",
   "metadata": {},
   "source": [
    "##### predict the category valus using randomforest dessition tree and logistic regressor\n"
   ]
  },
  {
   "cell_type": "code",
   "execution_count": 400,
   "id": "24d19612",
   "metadata": {},
   "outputs": [
    {
     "name": "stdout",
     "output_type": "stream",
     "text": [
      "diag_desc_combined           object\n",
      "number_inpatient              int64\n",
      "medical_specialty            object\n",
      "admission_source_id          object\n",
      "num_lab_procedures          float64\n",
      "readmitted                     bool\n",
      "distance_to_hospital        float64\n",
      "has_distance_to_hospital      int32\n",
      "dtype: object\n"
     ]
    }
   ],
   "source": [
    "print(df_new.dtypes)"
   ]
  },
  {
   "cell_type": "code",
   "execution_count": 401,
   "id": "6f4573e9",
   "metadata": {
    "scrolled": true
   },
   "outputs": [
    {
     "name": "stdout",
     "output_type": "stream",
     "text": [
      "Decision Tree Accuracy: 0.1569\n",
      "Random Forest Accuracy: 0.2029\n",
      "Logistic Regression Accuracy: 0.3389\n"
     ]
    },
    {
     "name": "stderr",
     "output_type": "stream",
     "text": [
      "C:\\Users\\aleks\\anaconda3\\lib\\site-packages\\sklearn\\model_selection\\_split.py:700: UserWarning: The least populated class in y has only 1 members, which is less than n_splits=5.\n",
      "  warnings.warn(\n",
      "C:\\Users\\aleks\\anaconda3\\lib\\site-packages\\sklearn\\model_selection\\_split.py:700: UserWarning: The least populated class in y has only 1 members, which is less than n_splits=5.\n",
      "  warnings.warn(\n",
      "C:\\Users\\aleks\\anaconda3\\lib\\site-packages\\sklearn\\model_selection\\_split.py:700: UserWarning: The least populated class in y has only 1 members, which is less than n_splits=5.\n",
      "  warnings.warn(\n"
     ]
    },
    {
     "name": "stdout",
     "output_type": "stream",
     "text": [
      "Decision Tree Mean Accuracy: 0.1931 ± 0.0093\n",
      "Random Forest Mean Accuracy: 0.2194 ± 0.0080\n",
      "Logistic Regression Mean Accuracy: 0.3433 ± 0.0039\n",
      "The best model is: LogisticRegression(max_iter=1000, random_state=42)\n"
     ]
    }
   ],
   "source": [
    "import numpy as np\n",
    "\n",
    "from sklearn.preprocessing import LabelEncoder\n",
    "from sklearn.model_selection import train_test_split\n",
    "from sklearn.tree import DecisionTreeClassifier\n",
    "from sklearn.ensemble import RandomForestClassifier\n",
    "from sklearn.metrics import accuracy_score\n",
    "from sklearn.model_selection import cross_val_score\n",
    "\n",
    "# create data for the regressors\n",
    "#question_mark_mask = df_new['medical_specialty'] == '?'\n",
    "target_column = df_new['medical_specialty']\n",
    "test_data = df_new[df_new['medical_specialty'] == '?']\n",
    "train_data = df_new[df_new['medical_specialty'] != '?']\n",
    "\n",
    "X = train_data[['num_lab_procedures', 'distance_to_hospital', 'number_inpatient']]\n",
    "y = train_data['medical_specialty']\n",
    "\n",
    "# Split the data into a training 80% amd test 20%\n",
    "X_train, X_test, y_train, y_test = train_test_split(X, y, test_size=0.1, random_state=42)\n",
    "\n",
    "# Train a Decision Tree Classifier\n",
    "dt_model = DecisionTreeClassifier(random_state=42)\n",
    "dt_model.fit(X_train, y_train)\n",
    "\n",
    "# Train a Random Forest Classifier\n",
    "rf_model = RandomForestClassifier(random_state=42)\n",
    "rf_model.fit(X_train, y_train)\n",
    "\n",
    "# Train a Logistic Regression Classifierc \n",
    "lr_model = LogisticRegression(solver='lbfgs', max_iter=1000, C=1.0, random_state=42)\n",
    "lr_model.fit(X_train, y_train)\n",
    "\n",
    "# Predict missing values using the trained Decision Tree, Random Forest, and Logistic Regression models\n",
    "predicted_categories_dt = dt_model.predict(X_test)\n",
    "predicted_categories_rf = rf_model.predict(X_test)\n",
    "predicted_categories_lr = lr_model.predict(X_test)\n",
    "\n",
    "# Evaluate the models using accuracy\n",
    "accuracy_dt = accuracy_score(y_test, predicted_categories_dt)\n",
    "accuracy_rf = accuracy_score(y_test, predicted_categories_rf)\n",
    "accuracy_lr = accuracy_score(y_test, predicted_categories_lr)\n",
    "\n",
    "print(f\"Decision Tree Accuracy: {accuracy_dt:.4f}\")\n",
    "print(f\"Random Forest Accuracy: {accuracy_rf:.4f}\")\n",
    "print(f\"Logistic Regression Accuracy: {accuracy_lr:.4f}\")\n",
    "\n",
    "# cross-validation \n",
    "# cv for the Decision Tree\n",
    "dt_scores = cross_val_score(dt_model, X_train, y_train, cv=5, scoring='accuracy')\n",
    "dt_mean_accuracy = dt_scores.mean()\n",
    "dt_std_accuracy = np.std(dt_scores)\n",
    "\n",
    "# cv for the Random Forest\n",
    "rf_scores = cross_val_score(rf_model, X_train, y_train, cv=5, scoring='accuracy')\n",
    "rf_mean_accuracy = rf_scores.mean()\n",
    "rf_std_accuracy = np.std(rf_scores)\n",
    "\n",
    "# cv for the Logistic Regression\n",
    "lr_scores = cross_val_score(lr_model, X_train, y_train, cv=5, scoring='accuracy')\n",
    "lr_mean_accuracy = lr_scores.mean()\n",
    "lr_std_accuracy = np.std(lr_scores)\n",
    "\n",
    "print(f\"Decision Tree Mean Accuracy: {dt_mean_accuracy:.4f} ± {dt_std_accuracy:.4f}\")\n",
    "print(f\"Random Forest Mean Accuracy: {rf_mean_accuracy:.4f} ± {rf_std_accuracy:.4f}\")\n",
    "print(f\"Logistic Regression Mean Accuracy: {lr_mean_accuracy:.4f} ± {lr_std_accuracy:.4f}\")\n",
    "\n",
    "#select the model with the highest accuracy\n",
    "best_model = None\n",
    "if dt_mean_accuracy >= rf_mean_accuracy and dt_mean_accuracy >= lr_mean_accuracy:\n",
    "    best_model = dt_model\n",
    "elif rf_mean_accuracy >= dt_mean_accuracy and rf_mean_accuracy >= lr_mean_accuracy:\n",
    "    best_model = rf_model\n",
    "else:\n",
    "    best_model = lr_model\n",
    "    \n",
    "print(f\"The best model is:\", best_model)"
   ]
  },
  {
   "cell_type": "code",
   "execution_count": 402,
   "id": "4e0a7ac5",
   "metadata": {},
   "outputs": [
    {
     "data": {
      "text/plain": [
       "?                                       3229\n",
       "Anesthesiology-Pediatric                   2\n",
       "Cardiology                               580\n",
       "Cardiology-Pediatric                       3\n",
       "Emergency/Trauma                         407\n",
       "Endocrinology                             15\n",
       "Family/GeneralPractice                   698\n",
       "Gastroenterology                          50\n",
       "Gynecology                                 6\n",
       "Hematology                                 1\n",
       "Hematology/Oncology                       13\n",
       "Hospitalist                                2\n",
       "InfectiousDiseases                         2\n",
       "InternalMedicine                        1562\n",
       "Nephrology                               126\n",
       "Neurology                                 22\n",
       "Obsterics&Gynecology-GynecologicOnco       4\n",
       "Obstetrics                                 1\n",
       "ObstetricsandGynecology                   78\n",
       "Oncology                                  32\n",
       "Ophthalmology                              3\n",
       "Orthopedics                              106\n",
       "Orthopedics-Reconstructive               140\n",
       "Osteopath                                  4\n",
       "Otolaryngology                            11\n",
       "OutreachServices                           1\n",
       "Pathology                                  2\n",
       "Pediatrics                                29\n",
       "Pediatrics-CriticalCare                   14\n",
       "Pediatrics-EmergencyMedicine               1\n",
       "Pediatrics-Endocrinology                  19\n",
       "Pediatrics-Hematology-Oncology             1\n",
       "Pediatrics-Pulmonology                     1\n",
       "PhysicalMedicineandRehabilitation         35\n",
       "Podiatry                                   8\n",
       "Psychiatry                                96\n",
       "Psychology                                 6\n",
       "Pulmonology                               78\n",
       "Radiologist                               42\n",
       "Radiology                                  7\n",
       "Surgeon                                    2\n",
       "Surgery-Cardiovascular                    11\n",
       "Surgery-Cardiovascular/Thoracic           80\n",
       "Surgery-Colon&Rectal                       1\n",
       "Surgery-General                          257\n",
       "Surgery-Neuro                             70\n",
       "Surgery-Pediatric                          4\n",
       "Surgery-Plastic                            5\n",
       "Surgery-PlasticwithinHeadandNeck           1\n",
       "Surgery-Thoracic                          11\n",
       "Surgery-Vascular                          57\n",
       "Urology                                   64\n",
       "Name: medical_specialty, dtype: int64"
      ]
     },
     "execution_count": 402,
     "metadata": {},
     "output_type": "execute_result"
    }
   ],
   "source": [
    "df_new['medical_specialty'].value_counts().sort_index()"
   ]
  },
  {
   "cell_type": "markdown",
   "id": "25949a93",
   "metadata": {},
   "source": [
    "Just to say that above data is very imbalanced, i.e. some categories have only one member. :("
   ]
  },
  {
   "cell_type": "code",
   "execution_count": 403,
   "id": "6506fb61",
   "metadata": {},
   "outputs": [
    {
     "data": {
      "text/plain": [
       "array(['Emergency/Trauma', 'Family/GeneralPractice',\n",
       "       'Pediatrics-Endocrinology', ..., 'Surgery-General', 'Pulmonology',\n",
       "       'Family/GeneralPractice'], dtype=object)"
      ]
     },
     "execution_count": 403,
     "metadata": {},
     "output_type": "execute_result"
    }
   ],
   "source": [
    "# Predict missing values using the trained Decision Tree, Random Forest, and Logistic Regression models\n",
    "X_missing = test_data[['num_lab_procedures', 'distance_to_hospital', 'number_inpatient']]\n",
    "predicted_missing_rf = rf_model.predict(X_missing)\n",
    "predicted_missing_rf # i picked rf"
   ]
  },
  {
   "cell_type": "code",
   "execution_count": 404,
   "id": "85f3dcd0",
   "metadata": {},
   "outputs": [],
   "source": [
    "#add extra column where we have 1 for non-missing values and 0 for missing values\n",
    "df_new['has_medical_specialty'] = df_new['medical_specialty'].apply(lambda x: 0 if x == '?' else 1)"
   ]
  },
  {
   "cell_type": "code",
   "execution_count": 405,
   "id": "a477b094",
   "metadata": {},
   "outputs": [],
   "source": [
    "#replaced missing values with the predicted classes\n",
    "df_new.loc[df_new['medical_specialty'] == '?', 'medical_specialty'] = predicted_missing_rf"
   ]
  },
  {
   "cell_type": "code",
   "execution_count": 406,
   "id": "93351c74",
   "metadata": {},
   "outputs": [],
   "source": [
    "#target encoding\n",
    "#mean target encoding\n",
    "mean_target = df_new.groupby('medical_specialty')['readmitted'].mean().reset_index()\n",
    "mean_target = mean_target.rename(columns={'readmitted': 'medical_specialty_encoded'})\n",
    "\n",
    "#combine the mean target encoding with the original df\n",
    "df_new = df_new.merge(mean_target, on='medical_specialty', how='left')\n",
    "\n",
    "#drop the original 'medical_specialty' column and rename the encoded column\n",
    "df_new.drop('medical_specialty', axis=1, inplace=True)\n",
    "df_new = df_new.rename(columns={'medical_specialty_encoded': 'medical_specialty'})"
   ]
  },
  {
   "cell_type": "markdown",
   "id": "ea6b2705",
   "metadata": {},
   "source": [
    "Predicting missing values for the 'admission_source_id' column."
   ]
  },
  {
   "cell_type": "code",
   "execution_count": 407,
   "id": "d8c86ea6",
   "metadata": {},
   "outputs": [
    {
     "name": "stdout",
     "output_type": "stream",
     "text": [
      "Decision Tree Accuracy: 0.4483\n",
      "Random Forest Accuracy: 0.4683\n",
      "Logistic Regression Accuracy: 0.0062\n"
     ]
    },
    {
     "name": "stderr",
     "output_type": "stream",
     "text": [
      "C:\\Users\\aleks\\anaconda3\\lib\\site-packages\\sklearn\\model_selection\\_split.py:700: UserWarning: The least populated class in y has only 1 members, which is less than n_splits=5.\n",
      "  warnings.warn(\n",
      "C:\\Users\\aleks\\anaconda3\\lib\\site-packages\\sklearn\\model_selection\\_split.py:700: UserWarning: The least populated class in y has only 1 members, which is less than n_splits=5.\n",
      "  warnings.warn(\n",
      "C:\\Users\\aleks\\anaconda3\\lib\\site-packages\\sklearn\\model_selection\\_split.py:700: UserWarning: The least populated class in y has only 1 members, which is less than n_splits=5.\n",
      "  warnings.warn(\n"
     ]
    },
    {
     "name": "stdout",
     "output_type": "stream",
     "text": [
      "Decision Tree Mean Accuracy: 0.4353 ± 0.0166\n",
      "Random Forest Mean Accuracy: 0.4769 ± 0.0161\n",
      "Logistic Regression Mean Accuracy: 0.5705 ± 0.0096\n",
      "The best model is: LogisticRegression(max_iter=1000, random_state=42)\n"
     ]
    }
   ],
   "source": [
    "import numpy as np\n",
    "import pandas as pd\n",
    "from sklearn.preprocessing import LabelEncoder\n",
    "from sklearn.model_selection import train_test_split\n",
    "from sklearn.tree import DecisionTreeClassifier\n",
    "from sklearn.ensemble import RandomForestClassifier\n",
    "from sklearn.linear_model import LogisticRegression\n",
    "from sklearn.metrics import accuracy_score\n",
    "from sklearn.model_selection import cross_val_score\n",
    "\n",
    "\n",
    "# Separate data into train and test\n",
    "test_data = df_new[df_new['admission_source_id'].isnull()]\n",
    "train_data = df_new[~df_new['admission_source_id'].isnull()]\n",
    "\n",
    "X = train_data[['num_lab_procedures', 'distance_to_hospital', 'number_inpatient']]\n",
    "y = train_data['admission_source_id'] \n",
    "\n",
    "# Split the data into training (80%) and test (20%)\n",
    "X_train, X_test, y_train, y_test = train_test_split(X, y, test_size=0.2, random_state=42, shuffle=True)\n",
    "\n",
    "# Create Encoder \n",
    "encoder = LabelEncoder()\n",
    "y_train_encd = encoder.fit_transform(y_train)\n",
    "y_test_encd = encoder.fit_transform(y_test)\n",
    "\n",
    "\n",
    "# Train a Decision Tree Classifier\n",
    "dt_model_2 = DecisionTreeClassifier(random_state=42)\n",
    "dt_model_2.fit(X_train, y_train)\n",
    "\n",
    "# Train a Random Forest Classifier\n",
    "rf_model_2 = RandomForestClassifier(random_state=42)\n",
    "rf_model_2.fit(X_train, y_train)\n",
    "\n",
    "# Train a Logistic Regression Classifier\n",
    "lr_model_2 = LogisticRegression(solver='lbfgs', max_iter=1000, C=1.0, random_state=42)\n",
    "lr_model_2.fit(X_train, y_train_encd)\n",
    "\n",
    "# Predict missing values using the trained models\n",
    "predicted_categories_dt = dt_model_2.predict(X_test)\n",
    "predicted_categories_rf = rf_model_2.predict(X_test)\n",
    "predicted_categories_lr = lr_model_2.predict(X_test)\n",
    "\n",
    "predicted_classes_lr_orign = encoder.inverse_transform(predicted_categories_lr)\n",
    "\n",
    "# Evaluate the models using accuracy\n",
    "accuracy_dt = accuracy_score(y_test, predicted_categories_dt)\n",
    "accuracy_rf = accuracy_score(y_test, predicted_categories_rf)\n",
    "accuracy_lr = accuracy_score(y_test_encd, predicted_categories_lr)\n",
    "\n",
    "print(f\"Decision Tree Accuracy: {accuracy_dt:.4f}\")\n",
    "print(f\"Random Forest Accuracy: {accuracy_rf:.4f}\")\n",
    "print(f\"Logistic Regression Accuracy: {accuracy_lr:.4f}\")\n",
    "\n",
    "# Cross-validation for Decision Tree\n",
    "dt_scores = cross_val_score(dt_model_2, X_train, y_train, cv=5, scoring='accuracy')\n",
    "dt_mean_accuracy = dt_scores.mean()\n",
    "dt_std_accuracy = np.std(dt_scores)\n",
    "\n",
    "# Cross-validation for Random Forest\n",
    "rf_scores = cross_val_score(rf_model_2, X_train, y_train, cv=5, scoring='accuracy')\n",
    "rf_mean_accuracy = rf_scores.mean()\n",
    "rf_std_accuracy = np.std(rf_scores)\n",
    "\n",
    "# Cross-validation for Logistic Regression\n",
    "lr_scores = cross_val_score(lr_model_2, X_train, y_train_encd, cv=5, scoring='accuracy')\n",
    "lr_mean_accuracy = lr_scores.mean()\n",
    "lr_std_accuracy = np.std(lr_scores)\n",
    "\n",
    "print(f\"Decision Tree Mean Accuracy: {dt_mean_accuracy:.4f} ± {dt_std_accuracy:.4f}\")\n",
    "print(f\"Random Forest Mean Accuracy: {rf_mean_accuracy:.4f} ± {rf_std_accuracy:.4f}\")\n",
    "print(f\"Logistic Regression Mean Accuracy: {lr_mean_accuracy:.4f} ± {lr_std_accuracy:.4f}\")\n",
    "\n",
    "# Select the model with the highest accuracy\n",
    "best_model = None\n",
    "if dt_mean_accuracy >= rf_mean_accuracy and dt_mean_accuracy >= lr_mean_accuracy:\n",
    "    best_model = dt_model\n",
    "elif rf_mean_accuracy >= dt_mean_accuracy and rf_mean_accuracy >= lr_mean_accuracy:\n",
    "    best_model = rf_model\n",
    "else:\n",
    "    best_model = lr_model\n",
    "\n",
    "print(f\"The best model is:\", best_model)\n"
   ]
  },
  {
   "cell_type": "code",
   "execution_count": 408,
   "id": "bd927bdf",
   "metadata": {},
   "outputs": [
    {
     "data": {
      "text/plain": [
       "array(['HMO Referral', 'HMO Referral', 'HMO Referral', ...,\n",
       "       'HMO Referral', 'HMO Referral', 'HMO Referral'], dtype=object)"
      ]
     },
     "execution_count": 408,
     "metadata": {},
     "output_type": "execute_result"
    }
   ],
   "source": [
    "predicted_classes_lr_orign"
   ]
  },
  {
   "cell_type": "code",
   "execution_count": 409,
   "id": "d38f790d",
   "metadata": {},
   "outputs": [
    {
     "data": {
      "text/plain": [
       "array(['Emergency Room', 'Emergency Room', 'Physician Referral', ...,\n",
       "       'Emergency Room', 'Emergency Room', 'Emergency Room'], dtype=object)"
      ]
     },
     "execution_count": 409,
     "metadata": {},
     "output_type": "execute_result"
    }
   ],
   "source": [
    "predicted_categories_rf"
   ]
  },
  {
   "cell_type": "markdown",
   "id": "52644619",
   "metadata": {},
   "source": [
    "I got very suspicious results just for accuracy Logistic Regression as 0.0125 by accuracy after cross-validation is 0.5689. I will use the Random Forest model for the missing data prediction."
   ]
  },
  {
   "cell_type": "code",
   "execution_count": 410,
   "id": "01fe02cb",
   "metadata": {},
   "outputs": [],
   "source": [
    "# Predict missing values using the trained Random Forest\n",
    "X_missing_2 = test_data[['num_lab_procedures', 'distance_to_hospital', 'number_inpatient']]\n",
    "predicted_missing_rf_2 = rf_model_2.predict(X_missing_2)\n",
    "\n",
    "#add extra column where we have 1 for non-missing values and 0 for missing values\n",
    "df_new['has_admission_source_id'] = df_new['admission_source_id'].notnull().astype(int)\n",
    "\n",
    "# replaced missing values with the predicted classes\n",
    "df_new.loc[df_new['admission_source_id'].isnull(), 'admission_source_id'] = predicted_missing_rf_2"
   ]
  },
  {
   "cell_type": "code",
   "execution_count": 411,
   "id": "268fd5d6",
   "metadata": {},
   "outputs": [],
   "source": [
    "#target encoding\n",
    "#mean target encoding\n",
    "mean_target = df_new.groupby('admission_source_id')['readmitted'].mean().reset_index()\n",
    "mean_target = mean_target.rename(columns={'readmitted': 'admission_source_id_encoded'})\n",
    "\n",
    "#combine the mean target encoding with the original df\n",
    "df_new = df_new.merge(mean_target, on='admission_source_id', how='left')\n",
    "\n",
    "#drop the original 'admission_source_id' column and rename the encoded column\n",
    "df_new.drop('admission_source_id', axis=1, inplace=True)\n",
    "df_new = df_new.rename(columns={'admission_source_id_encoded': 'admission_source_id'})"
   ]
  },
  {
   "cell_type": "markdown",
   "id": "491d89b4",
   "metadata": {},
   "source": [
    "### Preporcessing Text Data\n"
   ]
  },
  {
   "cell_type": "markdown",
   "id": "69278083",
   "metadata": {},
   "source": [
    "we have 466 missing rows for the test data. It is 5.9% from all data set. That is why i decided to drop missing text rows form the data frame."
   ]
  },
  {
   "cell_type": "code",
   "execution_count": 412,
   "id": "6e373d51",
   "metadata": {},
   "outputs": [
    {
     "data": {
      "text/plain": [
       "466"
      ]
     },
     "execution_count": 412,
     "metadata": {},
     "output_type": "execute_result"
    }
   ],
   "source": [
    "missing_rows = df['diag_desc_combined'].isna().sum()\n",
    "missing_rows"
   ]
  },
  {
   "cell_type": "code",
   "execution_count": 413,
   "id": "2c874442",
   "metadata": {},
   "outputs": [],
   "source": [
    "df_new.dropna(subset=['diag_desc_combined'], inplace=True)"
   ]
  },
  {
   "cell_type": "markdown",
   "id": "75c9834d",
   "metadata": {},
   "source": [
    "4. Implement a model to make predictions using text data using tf-idf [20 pts]"
   ]
  },
  {
   "cell_type": "code",
   "execution_count": 552,
   "id": "9ec74e5c",
   "metadata": {},
   "outputs": [
    {
     "name": "stdout",
     "output_type": "stream",
     "text": [
      "33903 3767 33903 3767\n"
     ]
    }
   ],
   "source": [
    "# #encoding readmitted to 0 and 1\n",
    "df_new['readmitted'] = df_new['readmitted'].astype(int)\n",
    "\n",
    "#split data set df_new into 50 - train 50 - test\n",
    "X = df_new.drop(columns=['readmitted'])  # dropping 'readmitted' because it's our target\n",
    "y = df_new['readmitted']\n",
    "X_train, X_test, y_train, y_test = train_test_split(X, y, test_size=0.5, random_state=42, shuffle=True)\n",
    "print(X_train.size, y_train.size,\n",
    "       X_test.size, y_test.size)"
   ]
  },
  {
   "cell_type": "code",
   "execution_count": 553,
   "id": "d2041ead",
   "metadata": {},
   "outputs": [],
   "source": [
    "from sklearn.feature_extraction.text import TfidfVectorizer\n",
    "from sklearn.linear_model import LinearRegression\n",
    "from sklearn.linear_model import LogisticRegression\n",
    "\n",
    "#calculate tf–idf scores for every word\n",
    "tfidf = TfidfVectorizer(max_features=5000, stop_words='english')\n",
    "\n",
    "#fit and transform the training data\n",
    "X_train_tfidf = tfidf.fit_transform(X_train['diag_desc_combined'])\n",
    "\n",
    "#transform the testing data\n",
    "X_test_tfidf = tfidf.transform(X_test['diag_desc_combined'])\n",
    "\n",
    "#train a TF-IDF model\n",
    "tfidf_model = LinearRegression() #GradientBoostingClassifier(n_estimators=100, learning_rate=0.1, max_depth=3, random_state=42)\n",
    "tfidf_model.fit(X_train_tfidf, y_train)\n",
    "\n",
    "#predictions with the TF-IDF model\n",
    "tfidf_predictions = tfidf_model.predict(X_test_tfidf)"
   ]
  },
  {
   "cell_type": "markdown",
   "id": "546db324",
   "metadata": {},
   "source": [
    "5. Use model stacking to incorporate tf-idf predictions for the text field\n",
    "(diag_desc_combined) in the downstream algorithm [20 pts]"
   ]
  },
  {
   "cell_type": "code",
   "execution_count": 554,
   "id": "eb3bd6a8",
   "metadata": {},
   "outputs": [
    {
     "data": {
      "text/plain": [
       "33903"
      ]
     },
     "execution_count": 554,
     "metadata": {},
     "output_type": "execute_result"
    }
   ],
   "source": [
    "# add prediction form text to data frame\n",
    "X_test['tfidf_predictions'] = tfidf_predictions\n",
    "\n",
    "# save text column\n",
    "X_train_text = X_train['diag_desc_combined']\n",
    "X_test_text = X_test['diag_desc_combined']\n",
    "#drop text from df\n",
    "X_test_notext = X_test.drop(columns=['diag_desc_combined']) \n",
    "X_test_notext.size"
   ]
  },
  {
   "cell_type": "code",
   "execution_count": 555,
   "id": "51065e6e",
   "metadata": {},
   "outputs": [
    {
     "name": "stdout",
     "output_type": "stream",
     "text": [
      "(3013, 9) (3013,) (754, 9) (754,)\n"
     ]
    }
   ],
   "source": [
    "X_train, X_test, y_train, y_test = train_test_split(X_test_notext, y_test, test_size=0.2, random_state=42, shuffle=True)\n",
    "\n",
    "# Print the sizes of the sets\n",
    "print(X_train.shape, y_train.shape, X_test.shape, y_test.shape)"
   ]
  },
  {
   "cell_type": "code",
   "execution_count": 556,
   "id": "8082b6dc",
   "metadata": {},
   "outputs": [
    {
     "name": "stdout",
     "output_type": "stream",
     "text": [
      "AUC Scores: [0.61713778 0.60855069]\n",
      "Mean AUC: 0.6128442346127534\n",
      "Standard Deviation of AUC: 0.004293544184333864\n"
     ]
    }
   ],
   "source": [
    "# final predicion model \n",
    "from sklearn.linear_model import LinearRegression\n",
    "from sklearn.ensemble import GradientBoostingClassifier\n",
    "from sklearn.metrics import roc_auc_score\n",
    "\n",
    "RF_model = RandomForestClassifier()\n",
    "LR_model = LinearRegression()\n",
    "\n",
    "# Create and fit a Gradient Boosting classifier\n",
    "gb_model = GradientBoostingClassifier(n_estimators=100, learning_rate=0.1, max_depth=3, random_state=42)\n",
    "LR_model.fit(X_train, y_train)\n",
    "\n",
    "# Predict probabilities for the positive class (class 1)\n",
    "#RF_probabilities = RF_model.predict_proba(X_test)[:, 1]\n",
    "\n",
    "# Calculate the AUC-ROC score\n",
    "#auc = roc_auc_score(y_test, RF_probabilities)\n",
    "\n",
    "#print(\"AUC:\", auc)\n",
    "\n",
    "cv_scores = cross_val_score(LR_model, X_test, y_test, cv=2, scoring='roc_auc')\n",
    "\n",
    "# Print the cross-validation scores\n",
    "print(\"AUC Scores:\", cv_scores)\n",
    "\n",
    "# Calculate and print the mean AUC score and its standard deviation\n",
    "mean_auc = cv_scores.mean()\n",
    "std_auc = cv_scores.std()\n",
    "print(\"Mean AUC:\", mean_auc)\n",
    "print(\"Standard Deviation of AUC:\", std_auc)"
   ]
  },
  {
   "cell_type": "markdown",
   "id": "00553715",
   "metadata": {},
   "source": [
    "6. Perform experimentation for multiple modeling algorithms and justify why you\n",
    "selected the experiments you chose [20 pts]"
   ]
  },
  {
   "cell_type": "code",
   "execution_count": 565,
   "id": "18efd5d1",
   "metadata": {},
   "outputs": [
    {
     "name": "stderr",
     "output_type": "stream",
     "text": [
      "C:\\Users\\aleks\\anaconda3\\lib\\site-packages\\sklearn\\svm\\_base.py:1244: ConvergenceWarning: Liblinear failed to converge, increase the number of iterations.\n",
      "  warnings.warn(\n"
     ]
    },
    {
     "name": "stdout",
     "output_type": "stream",
     "text": [
      "Logistic Regression: AUC = 0.6227853062646527\n",
      "Linear Regression: AUC = 0.620774752672875\n",
      "Random Forest: AUC = 0.6001284721970197\n",
      "Desition Tree: AUC = 0.49701683203530445\n",
      "gb_model: AUC = 0.6118143613044645\n",
      "Ridge Regression: AUC = 0.620847335835033\n",
      "Lasso Regression: AUC = 0.5\n",
      "Linear SVM: AUC = 0.621144926799881\n",
      "GBDT: AUC = 0.6116982282450117\n",
      "Bagging: AUC = 0.5911063851407751\n",
      "XGBoost: AUC = 0.5811661210832311\n"
     ]
    }
   ],
   "source": [
    "from sklearn.linear_model import LogisticRegression, RidgeClassifier, Lasso\n",
    "from sklearn.ensemble import RandomForestClassifier, BaggingClassifier, GradientBoostingClassifier\n",
    "from sklearn.tree import DecisionTreeClassifier\n",
    "from sklearn.svm import LinearSVC\n",
    "from sklearn.linear_model import Ridge\n",
    "from sklearn.linear_model import LinearRegression\n",
    "import xgboost as xgb\n",
    "models = {\n",
    "    'Logistic Regression': LogisticRegression(),\n",
    "    'Linear Regression': LinearRegression(),\n",
    "    'Random Forest': RandomForestClassifier(),\n",
    "    'Desition Tree': DecisionTreeClassifier(random_state=42),\n",
    "    'gb_model': GradientBoostingClassifier(n_estimators=100, learning_rate=0.1, max_depth=3, random_state=42),\n",
    "    'Ridge Regression': RidgeClassifier(alpha=0.1, max_iter=2000, random_state=42), \n",
    "    'Lasso Regression': Lasso(max_iter=2000, random_state=42),\n",
    "    'Linear SVM': LinearSVC(random_state=42),\n",
    "    'GBDT': GradientBoostingClassifier(),\n",
    "    'Bagging': BaggingClassifier(),\n",
    "    'XGBoost': xgb.XGBClassifier(),\n",
    "}\n",
    "auc_scores = {}\n",
    "\n",
    "for model_name, model in models.items():\n",
    "    # fit the model on the training data\n",
    "    model.fit(X_train, y_train)\n",
    "\n",
    "    # rpedict probabilities on the test data\n",
    "    if hasattr(model, 'predict_proba'):\n",
    "        y_pred_prob = model.predict_proba(X_test)[:, 1]\n",
    "    else:\n",
    "        # for models that don't have predict_proba !!!, use decision_function or predict method\n",
    "        y_pred_prob = model.decision_function(X_test) if hasattr(model, 'decision_function') else model.predict(X_test)\n",
    "\n",
    "    # calculate the AUC score\n",
    "    auc = roc_auc_score(y_test, y_pred_prob)\n",
    "\n",
    "    auc_scores[model_name] = auc\n",
    "\n",
    "# Print the AUC scores for each model\n",
    "for model_name, auc in auc_scores.items():\n",
    "    print(f'{model_name}: AUC = {auc}')"
   ]
  },
  {
   "cell_type": "markdown",
   "id": "d2614e6d",
   "metadata": {},
   "source": [
    "I selected the Logistic Regression because it has best AUC score."
   ]
  },
  {
   "cell_type": "code",
   "execution_count": 616,
   "id": "2e2351e5",
   "metadata": {},
   "outputs": [
    {
     "name": "stdout",
     "output_type": "stream",
     "text": [
      "Logistic Regression: AUC = 0.6423532330216486\n"
     ]
    }
   ],
   "source": [
    "#final code\n",
    "df = pd.read_csv(\"8k_diabetes_v2.csv\")\n",
    "\n",
    "#-------------------numerical data -------------------------------------------------------------------\n",
    "\n",
    "# drop the column \"is_patient\"\n",
    "df_new = df.drop('is_patient', axis=1) \n",
    "\n",
    "#add extra column where we have 1 for non-missing values and 0 for missing values\n",
    "df_new['has_distance_to_hospital'] = df_new['distance_to_hospital'].notna().astype(int)\n",
    "# input 'median' instead of missing values.\n",
    "df_new['distance_to_hospital'].fillna(df_new['distance_to_hospital'].median(), inplace=True)\n",
    "\n",
    "# scaling data 'distance_to_hospital' and 'num_lab_procedures'\n",
    "scaler = StandardScaler()\n",
    "\n",
    "df_new['distance_to_hospital'] = scaler.fit_transform(df_new['distance_to_hospital'].values.reshape(-1, 1))\n",
    "df_new['num_lab_procedures'] = scaler.fit_transform(df_new['num_lab_procedures'].values.reshape(-1, 1))\n",
    "\n",
    "#----------categorical data-----------------------------------------------------------------------------\n",
    "\n",
    "# create data for the regressors\n",
    "#question_mark_mask = df_new['medical_specialty'] == '?'\n",
    "target_column = df_new['medical_specialty']\n",
    "test_data = df_new[df_new['medical_specialty'] == '?']\n",
    "train_data = df_new[df_new['medical_specialty'] != '?']\n",
    "\n",
    "X = train_data[['num_lab_procedures', 'distance_to_hospital', 'number_inpatient']]\n",
    "y = train_data['medical_specialty']\n",
    "\n",
    "# Split the data into a training 80% amd test 20%\n",
    "X_train, X_test, y_train, y_test = train_test_split(X, y, test_size=0.8, random_state=42)\n",
    "\n",
    "# Train a Random Forest Classifier\n",
    "rf_model = RandomForestClassifier(random_state=42)\n",
    "rf_model.fit(X_train, y_train)\n",
    "\n",
    "# Predict missing values using Random Forest model\n",
    "X_missing = test_data[['num_lab_procedures', 'distance_to_hospital', 'number_inpatient']]\n",
    "predicted_missing_rf = rf_model.predict(X_missing)\n",
    "\n",
    "#add extra column where we have 1 for non-missing values and 0 for missing values\n",
    "df_new['has_medical_specialty'] = df_new['medical_specialty'].apply(lambda x: 0 if x == '?' else 1)\n",
    "\n",
    "#replaced missing values with the predicted classes\n",
    "df_new.loc[df_new['medical_specialty'] == '?', 'medical_specialty'] = predicted_missing_rf\n",
    "\n",
    "#target encoding\n",
    "#mean target encoding\n",
    "mean_target = df_new.groupby('medical_specialty')['readmitted'].mean().reset_index()\n",
    "mean_target = mean_target.rename(columns={'readmitted': 'medical_specialty_encoded'})\n",
    "\n",
    "#combine the mean target encoding with the original df\n",
    "df_new = df_new.merge(mean_target, on='medical_specialty', how='left')\n",
    "\n",
    "#drop the original 'medical_specialty' column and rename the encoded column\n",
    "df_new.drop('medical_specialty', axis=1, inplace=True)\n",
    "df_new = df_new.rename(columns={'medical_specialty_encoded': 'medical_specialty'})\n",
    "\n",
    "# Separate data into train and test\n",
    "test_data = df_new[df_new['admission_source_id'].isnull()]\n",
    "train_data = df_new[~df_new['admission_source_id'].isnull()]\n",
    "\n",
    "X = train_data[['num_lab_procedures', 'distance_to_hospital', 'number_inpatient']]\n",
    "y = train_data['admission_source_id'] \n",
    "\n",
    "# Split the data into training (80%) and test (20%)\n",
    "X_train, X_test, y_train, y_test = train_test_split(X, y, test_size=0.2, random_state=42, shuffle=True)\n",
    "\n",
    "# Train a Random Forest Classifier\n",
    "rf_model_2 = RandomForestClassifier(random_state=42)\n",
    "rf_model_2.fit(X_train, y_train)\n",
    "\n",
    "# Predict missing values using the trained Random Forest\n",
    "X_missing_2 = test_data[['num_lab_procedures', 'distance_to_hospital', 'number_inpatient']]\n",
    "predicted_missing_rf_2 = rf_model_2.predict(X_missing_2)\n",
    "\n",
    "#add extra column where we have 1 for non-missing values and 0 for missing values\n",
    "df_new['has_admission_source_id'] = df_new['admission_source_id'].notnull().astype(int)\n",
    "\n",
    "# replaced missing values with the predicted classes\n",
    "df_new.loc[df_new['admission_source_id'].isnull(), 'admission_source_id'] = predicted_missing_rf_2\n",
    "\n",
    "#target encoding\n",
    "#mean target encoding\n",
    "mean_target2 = df_new.groupby('admission_source_id')['readmitted'].mean().reset_index()\n",
    "mean_target2 = mean_target2.rename(columns={'readmitted': 'admission_source_id_encoded'})\n",
    "\n",
    "#combine the mean target encoding with the original df\n",
    "df_new = df_new.merge(mean_target2, on='admission_source_id', how='left')\n",
    "\n",
    "#drop the original 'admission_source_id' column and rename the encoded column\n",
    "df_new.drop('admission_source_id', axis=1, inplace=True)\n",
    "df_new = df_new.rename(columns={'admission_source_id_encoded': 'admission_source_id'})\n",
    "\n",
    "# -------------text data-------------------------------------------------------------------------\n",
    "\n",
    "df_new.dropna(subset=['diag_desc_combined'], inplace=True)\n",
    "\n",
    "#encoding readmitted to 0 and 1\n",
    "df_new['readmitted'] = df_new['readmitted'].astype(int)\n",
    "\n",
    "#split data set df_new into 50 - train 50 - test\n",
    "X = df_new.drop(columns=['readmitted'])  # dropping 'readmitted' because it's our target\n",
    "y = df_new['readmitted']\n",
    "X_train, X_test, y_train, y_test = train_test_split(X, y, test_size=0.5, random_state=42, shuffle=True)\n",
    "\n",
    "from sklearn.feature_extraction.text import TfidfVectorizer\n",
    "from sklearn.linear_model import LinearRegression\n",
    "from sklearn.linear_model import LogisticRegression\n",
    "\n",
    "#calculate tf–idf scores for every word\n",
    "tfidf = TfidfVectorizer(max_features=500, stop_words='english')\n",
    "\n",
    "#fit and transform the training data\n",
    "X_train_tfidf = tfidf.fit_transform(X_train['diag_desc_combined'])\n",
    "\n",
    "#transform the testing data\n",
    "X_test_tfidf = tfidf.transform(X_test['diag_desc_combined'])\n",
    "\n",
    "#train a TF-IDF model\n",
    "tfidf_model = LinearRegression()\n",
    "tfidf_model.fit(X_train_tfidf, y_train)\n",
    "\n",
    "#predictions with the TF-IDF model\n",
    "tfidf_predictions = tfidf_model.predict(X_test_tfidf)\n",
    "\n",
    "# ---------add prediction form text to data frame--------------------------------\n",
    "X_test['tfidf_predictions'] = tfidf_predictions\n",
    "\n",
    "#drop text from df\n",
    "X_test_notext = X_test.drop(columns=['diag_desc_combined']) \n",
    "\n",
    "X_train, X_test, y_train, y_test = train_test_split(X_test_notext, y_test, test_size=0.5, random_state=42, shuffle=True)\n",
    "\n",
    "model = LogisticRegression()\n",
    "model.fit(X_train, y_train)\n",
    "if hasattr(model, 'predict_proba'):\n",
    "    y_pred_prob = model.predict_proba(X_test)[:, 1]\n",
    "else:\n",
    "        # for models that don't have predict_proba !!!, use decision_function or predict method\n",
    "        y_pred_prob = model.decision_function(X_test) if hasattr(model, 'decision_function') else model.predict(X_test)\n",
    "auc = roc_auc_score(y_test, y_pred_prob)\n",
    "print(f'Logistic Regression: AUC = {auc}')"
   ]
  },
  {
   "cell_type": "code",
   "execution_count": 623,
   "id": "455667da",
   "metadata": {},
   "outputs": [],
   "source": [
    "#some other part for predictions\n",
    "\n",
    "#final code\n",
    "df = pd.read_csv(\"2k_diabetes_v2_scoring.csv\")\n",
    "\n",
    "#-------------------numerical data -------------------------------------------------------------------\n",
    "\n",
    "# drop the column \"is_patient\"\n",
    "df_new = df.drop('is_patient', axis=1) \n",
    "\n",
    "#add extra column where we have 1 for non-missing values and 0 for missing values\n",
    "df_new['has_distance_to_hospital'] = df_new['distance_to_hospital'].notna().astype(int)\n",
    "# input 'median' instead of missing values.\n",
    "df_new['distance_to_hospital'].fillna(df_new['distance_to_hospital'].median(), inplace=True)\n",
    "\n",
    "# scaling data 'distance_to_hospital' and 'num_lab_procedures'\n",
    "scaler = StandardScaler()\n",
    "\n",
    "df_new['distance_to_hospital'] = scaler.fit_transform(df_new['distance_to_hospital'].values.reshape(-1, 1))\n",
    "df_new['num_lab_procedures'] = scaler.fit_transform(df_new['num_lab_procedures'].values.reshape(-1, 1))\n",
    "\n",
    "#----------categorical data-----------------------------------------------------------------------------\n",
    "\n",
    "# create data for the regressors\n",
    "#question_mark_mask = df_new['medical_specialty'] == '?'\n",
    "target_column = df_new['medical_specialty']\n",
    "test_data = df_new[df_new['medical_specialty'] == '?']\n",
    "train_data = df_new[df_new['medical_specialty'] != '?']\n",
    "\n",
    "X = train_data[['num_lab_procedures', 'distance_to_hospital', 'number_inpatient']]\n",
    "y = train_data['medical_specialty']\n",
    "\n",
    "# Split the data into a training 80% amd test 20%\n",
    "X_train, X_test, y_train, y_test = train_test_split(X, y, test_size=0.8, random_state=42)\n",
    "\n",
    "# Train a Random Forest Classifier\n",
    "rf_model = RandomForestClassifier(random_state=42)\n",
    "rf_model.fit(X_train, y_train)\n",
    "\n",
    "# Predict missing values using Random Forest model\n",
    "X_missing = test_data[['num_lab_procedures', 'distance_to_hospital', 'number_inpatient']]\n",
    "predicted_missing_rf = rf_model.predict(X_missing)\n",
    "\n",
    "#add extra column where we have 1 for non-missing values and 0 for missing values\n",
    "df_new['has_medical_specialty'] = df_new['medical_specialty'].apply(lambda x: 0 if x == '?' else 1)\n",
    "\n",
    "#replaced missing values with the predicted classes\n",
    "df_new.loc[df_new['medical_specialty'] == '?', 'medical_specialty'] = predicted_missing_rf\n",
    "df_new['medical_specialty'].fillna('Unknown', inplace=True)\n",
    "#target encoding ------------------------------------------------------------------\n",
    "# to a new dataset\n",
    "#df_new['medical_specialty'] = df_new['medical_specialty'].map(mean_target)\n",
    "\n",
    "\n",
    "#combine the mean target encoding with the original df\n",
    "df_new = df_new.merge(mean_target, on='medical_specialty', how='left')\n",
    "\n",
    "#drop the original 'medical_specialty' column and rename the encoded column\n",
    "df_new.drop('medical_specialty', axis=1, inplace=True)\n",
    "df_new = df_new.rename(columns={'medical_specialty_encoded': 'medical_specialty'})\n",
    "df_new['medical_specialty'].fillna(df_new['medical_specialty'].mean(), inplace=True)\n",
    "\n",
    "# Separate data into train and test\n",
    "test_data = df_new[df_new['admission_source_id'].isnull()]\n",
    "train_data = df_new[~df_new['admission_source_id'].isnull()]\n",
    "\n",
    "# Predict missing values using the trained Random Forest\n",
    "X_missing_2 = test_data[['num_lab_procedures', 'distance_to_hospital', 'number_inpatient']]\n",
    "predicted_missing_rf_2 = rf_model_2.predict(X_missing_2)\n",
    "\n",
    "#add extra column where we have 1 for non-missing values and 0 for missing values\n",
    "df_new['has_admission_source_id'] = df_new['admission_source_id'].notnull().astype(int)\n",
    "\n",
    "# replaced missing values with the predicted classes\n",
    "df_new.loc[df_new['admission_source_id'].isnull(), 'admission_source_id'] = predicted_missing_rf_2\n",
    "\n",
    "#target encoding\n",
    "#mean target encoding\n",
    "#combine the mean target encoding with the original df\n",
    "df_new = df_new.merge(mean_target2, on='admission_source_id', how='left')\n",
    "\n",
    "#drop the original 'admission_source_id' column and rename the encoded column\n",
    "df_new.drop('admission_source_id', axis=1, inplace=True)\n",
    "df_new = df_new.rename(columns={'admission_source_id_encoded': 'admission_source_id'})\n",
    "\n",
    "# -------------text data-------------------------------------------------------------------------\n",
    "\n",
    "df_new.dropna(subset=['diag_desc_combined'], inplace=True)\n",
    "X_tfidf = tfidf.fit_transform(df_new['diag_desc_combined'])\n",
    "\n",
    "#predictions with the TF-IDF model\n",
    "tfidf_predictions = tfidf_model.predict(X_tfidf)\n",
    "\n",
    "# ---------add prediction form text to data frame--------------------------------\n",
    "df_new['tfidf_predictions'] = tfidf_predictions\n",
    "\n",
    "#drop text from df\n",
    "df_notext = df_new.drop(columns=['diag_desc_combined']) \n",
    "\n",
    "y_pred_prob = model.predict_proba(df_notext)[:, 1]\n",
    "\n",
    "pred_prob_binary = (y_pred_prob >= 0.5).astype(int)"
   ]
  },
  {
   "cell_type": "code",
   "execution_count": 624,
   "id": "9f00ecb1",
   "metadata": {},
   "outputs": [],
   "source": [
    "# Converting to a DataFrame\n",
    "df_y_pred_prob = pd.DataFrame({'predicted_class: 0 -False, 1 - True': pred_prob_binary})\n",
    "\n",
    "# Save a CSV file\n",
    "df_y_pred_prob.to_csv('Aleksandrovych_Mariia_pred2.csv', index=False)"
   ]
  },
  {
   "cell_type": "code",
   "execution_count": null,
   "id": "cfe500e5",
   "metadata": {},
   "outputs": [],
   "source": []
  }
 ],
 "metadata": {
  "kernelspec": {
   "display_name": "Python 3",
   "language": "python",
   "name": "python3"
  },
  "language_info": {
   "codemirror_mode": {
    "name": "ipython",
    "version": 3
   },
   "file_extension": ".py",
   "mimetype": "text/x-python",
   "name": "python",
   "nbconvert_exporter": "python",
   "pygments_lexer": "ipython3",
   "version": "3.8.8"
  }
 },
 "nbformat": 4,
 "nbformat_minor": 5
}
